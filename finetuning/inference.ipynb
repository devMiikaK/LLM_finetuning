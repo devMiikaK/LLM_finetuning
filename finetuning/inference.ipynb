{
 "cells": [
  {
   "cell_type": "code",
   "execution_count": null,
   "metadata": {},
   "outputs": [],
   "source": [
    "###inferenssi (mallin testaus.)\n",
    "from peft import PeftModel\n",
    "from transformers import AutoModelForCausalLM, AutoTokenizer\n",
    "import torch\n",
    "from transformers import TextStreamer\n",
    "\n",
    "tokenizer = AutoTokenizer.from_pretrained(\"./mistral-dpo-lora-adapter\") #ladataan tokenizer.\n",
    "tokenizer.pad_token = tokenizer.eos_token\n",
    "tokenizer.padding_side = \"right\"\n",
    "\n",
    "base_model = AutoModelForCausalLM.from_pretrained(\n",
    "    \"mistralai/Mistral-7B-v0.1\",\n",
    "    torch_dtype=torch.bfloat16, #koulutuksessa käytettiin bf16, joten käytetään myös inferenssissä.\n",
    "    device_map=\"auto\"\n",
    ")\n",
    "\n",
    "model = PeftModel.from_pretrained(base_model, \"./mistral-dpo-lora-adapter\") #ladataan hienosäädetty malli\n",
    "\n",
    "streamer = TextStreamer( #tämä on sitä varten, että promptin output näkyy reaaliajassa.\n",
    "    tokenizer, \n",
    "    skip_prompt=True,\n",
    "    skip_special_tokens=True\n",
    ")\n"
   ]
  },
  {
   "cell_type": "code",
   "execution_count": null,
   "metadata": {},
   "outputs": [],
   "source": [
    "prompt = \"[INST] What is a GPU? [/INST]\" #Syöte kielimallille\n",
    "inputs = tokenizer(prompt, return_tensors=\"pt\").to(\"cuda\")\n",
    "\n",
    "_ = model.generate(\n",
    "    **inputs,\n",
    "    max_new_tokens=200,\n",
    "    streamer=streamer,\n",
    "    temperature=0.7 #tokenien Tn skaalaus. isompi arvo tuottaa \"kaoottisemman\" outputin.\n",
    ")"
   ]
  }
 ],
 "metadata": {
  "language_info": {
   "name": "python"
  }
 },
 "nbformat": 4,
 "nbformat_minor": 2
}
